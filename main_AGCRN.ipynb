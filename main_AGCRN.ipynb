{
  "cells": [
    {
      "cell_type": "markdown",
      "metadata": {
        "id": "1u7c_nmNMrgl"
      },
      "source": [
        "M. Amintoosi"
      ]
    },
    {
      "cell_type": "code",
      "source": [
        "!git clone https://github.com/mamintoosi-papers-codes/AGCRN.git\n",
        "%cd AGCRN/model"
      ],
      "metadata": {
        "id": "sE85S2H5NB6N",
        "outputId": "c63bce0d-9deb-4221-eb8b-57768df84c74",
        "colab": {
          "base_uri": "https://localhost:8080/"
        }
      },
      "execution_count": 1,
      "outputs": [
        {
          "output_type": "stream",
          "name": "stdout",
          "text": [
            "Cloning into 'AGCRN'...\n",
            "remote: Enumerating objects: 54, done.\u001b[K\n",
            "remote: Counting objects: 100% (26/26), done.\u001b[K\n",
            "remote: Compressing objects: 100% (15/15), done.\u001b[K\n",
            "remote: Total 54 (delta 12), reused 14 (delta 11), pack-reused 28\u001b[K\n",
            "Receiving objects: 100% (54/54), 48.55 MiB | 10.84 MiB/s, done.\n",
            "Resolving deltas: 100% (15/15), done.\n",
            "/content/AGCRN/model\n"
          ]
        }
      ]
    },
    {
      "cell_type": "code",
      "execution_count": 3,
      "metadata": {
        "vscode": {
          "languageId": "plaintext"
        },
        "id": "YFaUFaTOMrgy"
      },
      "outputs": [],
      "source": [
        "%run Run.py"
      ]
    }
  ],
  "metadata": {
    "language_info": {
      "name": "python"
    },
    "colab": {
      "provenance": [],
      "gpuType": "T4"
    },
    "accelerator": "GPU",
    "kernelspec": {
      "name": "python3",
      "display_name": "Python 3"
    }
  },
  "nbformat": 4,
  "nbformat_minor": 0
}